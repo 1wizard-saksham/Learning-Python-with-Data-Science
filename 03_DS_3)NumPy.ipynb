{
 "cells": [
  {
   "cell_type": "markdown",
   "id": "cc5f7506",
   "metadata": {},
   "source": [
    "# i) Concatenation and sorting of array"
   ]
  },
  {
   "cell_type": "code",
   "execution_count": 1,
   "id": "b6c243bd",
   "metadata": {},
   "outputs": [],
   "source": [
    "import numpy as np\n",
    "x = np.array([1,2,3,4])\n",
    "y = np.array([5,6,7,8])"
   ]
  },
  {
   "cell_type": "code",
   "execution_count": 2,
   "id": "f334c7be",
   "metadata": {
    "scrolled": false
   },
   "outputs": [
    {
     "data": {
      "text/plain": [
       "array([1, 2, 3, 4, 5, 6, 7, 8])"
      ]
     },
     "execution_count": 2,
     "metadata": {},
     "output_type": "execute_result"
    }
   ],
   "source": [
    "np.concatenate([x,y])    # Concatenating the 2 NumPy arrays, x and y"
   ]
  },
  {
   "cell_type": "markdown",
   "id": "18405430",
   "metadata": {},
   "source": [
    "# ii) Matrix multiplication is called dot product in NumPy"
   ]
  },
  {
   "cell_type": "code",
   "execution_count": 3,
   "id": "5c386f22",
   "metadata": {
    "scrolled": true
   },
   "outputs": [
    {
     "name": "stdout",
     "output_type": "stream",
     "text": [
      "[[ 58  64]\n",
      " [139 154]]\n"
     ]
    }
   ],
   "source": [
    "''' For matrix multiplication or dot product, the number of column in the first matrix should be equal to the no of \n",
    "rpw in the second matrix'''\n",
    "a = np.array([[1,2,3], [4,5,6]])\n",
    "b = np.array([[7,8],[9,10],[11,12]])\n",
    "print(np.dot(a,b))"
   ]
  },
  {
   "cell_type": "markdown",
   "id": "9be77a86",
   "metadata": {},
   "source": [
    "# iii) Matrix Operation (Performed by \"Linear Algebra\" module)"
   ]
  },
  {
   "cell_type": "markdown",
   "id": "3cb26b64",
   "metadata": {},
   "source": [
    "### **Note:- A matrix having a single row is called a row matrix and that having a single column is called a column matrix**\n",
    "<img src = \"https://i.ytimg.com/vi/8hOFwKw9r8w/sddefault.jpg\">"
   ]
  },
  {
   "cell_type": "markdown",
   "id": "ba201cc3",
   "metadata": {},
   "source": [
    "## **a) Determinant**"
   ]
  },
  {
   "cell_type": "code",
   "execution_count": 4,
   "id": "f06b6dc9",
   "metadata": {},
   "outputs": [
    {
     "data": {
      "text/plain": [
       "-20.000000000000007"
      ]
     },
     "execution_count": 4,
     "metadata": {},
     "output_type": "execute_result"
    }
   ],
   "source": [
    "matrix = np.array([[1,7],[3,1]])\n",
    "np.linalg.det(matrix)"
   ]
  },
  {
   "cell_type": "markdown",
   "id": "1fff4715",
   "metadata": {},
   "source": [
    "## **b) Inverse**"
   ]
  },
  {
   "cell_type": "code",
   "execution_count": 5,
   "id": "a0d4830c",
   "metadata": {},
   "outputs": [
    {
     "data": {
      "text/plain": [
       "array([[-0.05,  0.35],\n",
       "       [ 0.15, -0.05]])"
      ]
     },
     "execution_count": 5,
     "metadata": {},
     "output_type": "execute_result"
    }
   ],
   "source": [
    "np.linalg.inv(matrix)"
   ]
  },
  {
   "cell_type": "markdown",
   "id": "b5bc8aeb",
   "metadata": {},
   "source": [
    "## **c) Transpose**"
   ]
  },
  {
   "cell_type": "code",
   "execution_count": 6,
   "id": "891e74a2",
   "metadata": {},
   "outputs": [
    {
     "data": {
      "text/plain": [
       "array([[1, 3],\n",
       "       [7, 1]])"
      ]
     },
     "execution_count": 6,
     "metadata": {},
     "output_type": "execute_result"
    }
   ],
   "source": [
    "matrix.T"
   ]
  },
  {
   "cell_type": "markdown",
   "id": "e73711d3",
   "metadata": {},
   "source": [
    "## **d) Row and Column matrix**"
   ]
  },
  {
   "cell_type": "code",
   "execution_count": 7,
   "id": "f134a8f5",
   "metadata": {},
   "outputs": [
    {
     "data": {
      "text/plain": [
       "array([[1],\n",
       "       [2]])"
      ]
     },
     "execution_count": 7,
     "metadata": {},
     "output_type": "execute_result"
    }
   ],
   "source": [
    "x = np.array([[1],[2]])\n",
    "x.reshape([-1,1])    #(Put -1 if row no or the column no is unknown)"
   ]
  },
  {
   "cell_type": "markdown",
   "id": "66815886",
   "metadata": {},
   "source": [
    "## **e) Matrix Sum**"
   ]
  },
  {
   "cell_type": "markdown",
   "id": "2058f994",
   "metadata": {},
   "source": [
    "## **The axis arguement in NumPy: 2D axis= 0 is column-wise and axis= 1means row-wise**"
   ]
  },
  {
   "cell_type": "code",
   "execution_count": 8,
   "id": "4f8b4a05",
   "metadata": {},
   "outputs": [
    {
     "name": "stdout",
     "output_type": "stream",
     "text": [
      "21\n",
      "[5 7 9]\n",
      "[ 6 15]\n"
     ]
    }
   ],
   "source": [
    "x1 = np.array([[1,2,3],[4,5,6]])\n",
    "print(x1.sum())  # The sum of all items of matrix\n",
    "print(x1.sum(axis=0)) # Column-wise sum \n",
    "print(x1.sum(axis=1)) # Row-wise sum"
   ]
  },
  {
   "cell_type": "markdown",
   "id": "82f34737",
   "metadata": {},
   "source": [
    "# iv) Statistics using NumPy"
   ]
  },
  {
   "cell_type": "code",
   "execution_count": 9,
   "id": "5aec812d",
   "metadata": {},
   "outputs": [
    {
     "name": "stdout",
     "output_type": "stream",
     "text": [
      "[88 26 71 56 34 93  4 53 87 97 23 18 54 48 78 40 70 89  4 59]\n"
     ]
    }
   ],
   "source": [
    "np.random.seed(2023)\n",
    "numbers = np.random.randint(1,100,20)\n",
    "print(numbers)"
   ]
  },
  {
   "cell_type": "markdown",
   "id": "b90afe6d",
   "metadata": {},
   "source": [
    "## **a) Mean**"
   ]
  },
  {
   "cell_type": "code",
   "execution_count": 10,
   "id": "ec7c2c96",
   "metadata": {},
   "outputs": [
    {
     "data": {
      "text/plain": [
       "54.6"
      ]
     },
     "execution_count": 10,
     "metadata": {},
     "output_type": "execute_result"
    }
   ],
   "source": [
    "np.mean(numbers) # First_method\n",
    "numbers.mean()   # Second_method"
   ]
  },
  {
   "cell_type": "markdown",
   "id": "b81832f1",
   "metadata": {},
   "source": [
    "## **b) Max and Min numbers in an array**"
   ]
  },
  {
   "cell_type": "code",
   "execution_count": 11,
   "id": "8da4acc6",
   "metadata": {},
   "outputs": [
    {
     "name": "stdout",
     "output_type": "stream",
     "text": [
      "97\n",
      "4\n"
     ]
    }
   ],
   "source": [
    "large = np.max(numbers)\n",
    "small = np.min(numbers)\n",
    "print(large)\n",
    "print(small)"
   ]
  },
  {
   "cell_type": "markdown",
   "id": "4972704f",
   "metadata": {},
   "source": [
    "## **c) To find out the index of largest and smallest value in an array**"
   ]
  },
  {
   "cell_type": "code",
   "execution_count": 12,
   "id": "99c9289d",
   "metadata": {},
   "outputs": [
    {
     "name": "stdout",
     "output_type": "stream",
     "text": [
      "9\n",
      "6\n"
     ]
    }
   ],
   "source": [
    "print(np.argmax(numbers))\n",
    "print(np.argmin(numbers))"
   ]
  },
  {
   "cell_type": "markdown",
   "id": "1d9057aa",
   "metadata": {},
   "source": [
    "## **d) Standard Deviation**"
   ]
  },
  {
   "cell_type": "code",
   "execution_count": 13,
   "id": "dd4d5532",
   "metadata": {},
   "outputs": [
    {
     "data": {
      "text/plain": [
       "28.858967410494785"
      ]
     },
     "execution_count": 13,
     "metadata": {},
     "output_type": "execute_result"
    }
   ],
   "source": [
    "np.std(numbers)"
   ]
  },
  {
   "cell_type": "markdown",
   "id": "79dce0eb",
   "metadata": {},
   "source": [
    "## **e) Variance (Square of the standard deviation is called the variance)**"
   ]
  },
  {
   "cell_type": "code",
   "execution_count": 14,
   "id": "e16545ab",
   "metadata": {},
   "outputs": [
    {
     "data": {
      "text/plain": [
       "832.8400000000001"
      ]
     },
     "execution_count": 14,
     "metadata": {},
     "output_type": "execute_result"
    }
   ],
   "source": [
    "np.var(numbers)"
   ]
  },
  {
   "cell_type": "markdown",
   "id": "decb261b",
   "metadata": {},
   "source": [
    "## **f) Mode**"
   ]
  },
  {
   "cell_type": "code",
   "execution_count": null,
   "id": "1afbf66a",
   "metadata": {},
   "outputs": [],
   "source": [
    "from scipy.stats import mode\n",
    "mode(numbers)"
   ]
  },
  {
   "cell_type": "code",
   "execution_count": 1,
   "id": "e4ed0a7c",
   "metadata": {},
   "outputs": [],
   "source": [
    "import numpy as np\n",
    "import seaborn as sns\n",
    "df = sns.load_dataset('tips')"
   ]
  },
  {
   "cell_type": "code",
   "execution_count": 2,
   "id": "48da82c1",
   "metadata": {},
   "outputs": [
    {
     "data": {
      "text/html": [
       "<div>\n",
       "<style scoped>\n",
       "    .dataframe tbody tr th:only-of-type {\n",
       "        vertical-align: middle;\n",
       "    }\n",
       "\n",
       "    .dataframe tbody tr th {\n",
       "        vertical-align: top;\n",
       "    }\n",
       "\n",
       "    .dataframe thead th {\n",
       "        text-align: right;\n",
       "    }\n",
       "</style>\n",
       "<table border=\"1\" class=\"dataframe\">\n",
       "  <thead>\n",
       "    <tr style=\"text-align: right;\">\n",
       "      <th></th>\n",
       "      <th>total_bill</th>\n",
       "      <th>tip</th>\n",
       "      <th>sex</th>\n",
       "      <th>smoker</th>\n",
       "      <th>day</th>\n",
       "      <th>time</th>\n",
       "      <th>size</th>\n",
       "    </tr>\n",
       "  </thead>\n",
       "  <tbody>\n",
       "    <tr>\n",
       "      <th>0</th>\n",
       "      <td>16.99</td>\n",
       "      <td>1.01</td>\n",
       "      <td>Female</td>\n",
       "      <td>No</td>\n",
       "      <td>Sun</td>\n",
       "      <td>Dinner</td>\n",
       "      <td>2</td>\n",
       "    </tr>\n",
       "    <tr>\n",
       "      <th>1</th>\n",
       "      <td>10.34</td>\n",
       "      <td>1.66</td>\n",
       "      <td>Male</td>\n",
       "      <td>No</td>\n",
       "      <td>Sun</td>\n",
       "      <td>Dinner</td>\n",
       "      <td>3</td>\n",
       "    </tr>\n",
       "    <tr>\n",
       "      <th>2</th>\n",
       "      <td>21.01</td>\n",
       "      <td>3.50</td>\n",
       "      <td>Male</td>\n",
       "      <td>No</td>\n",
       "      <td>Sun</td>\n",
       "      <td>Dinner</td>\n",
       "      <td>3</td>\n",
       "    </tr>\n",
       "    <tr>\n",
       "      <th>3</th>\n",
       "      <td>23.68</td>\n",
       "      <td>3.31</td>\n",
       "      <td>Male</td>\n",
       "      <td>No</td>\n",
       "      <td>Sun</td>\n",
       "      <td>Dinner</td>\n",
       "      <td>2</td>\n",
       "    </tr>\n",
       "    <tr>\n",
       "      <th>4</th>\n",
       "      <td>24.59</td>\n",
       "      <td>3.61</td>\n",
       "      <td>Female</td>\n",
       "      <td>No</td>\n",
       "      <td>Sun</td>\n",
       "      <td>Dinner</td>\n",
       "      <td>4</td>\n",
       "    </tr>\n",
       "  </tbody>\n",
       "</table>\n",
       "</div>"
      ],
      "text/plain": [
       "   total_bill   tip     sex smoker  day    time  size\n",
       "0       16.99  1.01  Female     No  Sun  Dinner     2\n",
       "1       10.34  1.66    Male     No  Sun  Dinner     3\n",
       "2       21.01  3.50    Male     No  Sun  Dinner     3\n",
       "3       23.68  3.31    Male     No  Sun  Dinner     2\n",
       "4       24.59  3.61  Female     No  Sun  Dinner     4"
      ]
     },
     "execution_count": 2,
     "metadata": {},
     "output_type": "execute_result"
    }
   ],
   "source": [
    "df.head()"
   ]
  },
  {
   "cell_type": "code",
   "execution_count": null,
   "id": "6f34c4a0",
   "metadata": {},
   "outputs": [],
   "source": []
  }
 ],
 "metadata": {
  "kernelspec": {
   "display_name": "Python 3 (ipykernel)",
   "language": "python",
   "name": "python3"
  },
  "language_info": {
   "codemirror_mode": {
    "name": "ipython",
    "version": 3
   },
   "file_extension": ".py",
   "mimetype": "text/x-python",
   "name": "python",
   "nbconvert_exporter": "python",
   "pygments_lexer": "ipython3",
   "version": "3.9.6"
  }
 },
 "nbformat": 4,
 "nbformat_minor": 5
}
