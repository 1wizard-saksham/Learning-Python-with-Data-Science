{
 "cells": [
  {
   "cell_type": "code",
   "execution_count": 12,
   "id": "5889d5ce",
   "metadata": {},
   "outputs": [],
   "source": [
    "import pandas as pd"
   ]
  },
  {
   "cell_type": "markdown",
   "id": "8dc86a22",
   "metadata": {},
   "source": [
    "# DataFrame"
   ]
  },
  {
   "cell_type": "markdown",
   "id": "4056e400",
   "metadata": {},
   "source": [
    "## **a) Creating DataFrame from dictionary**"
   ]
  },
  {
   "cell_type": "code",
   "execution_count": 13,
   "id": "209de8a4",
   "metadata": {},
   "outputs": [],
   "source": [
    "about = {\n",
    "    'Name':['Sisan Baniya','Shrinkhala Khatiwada', 'Cool Boy'],\n",
    "    'Social_media':['Youtube', 'Instagram', 'TikTok'],\n",
    "    'Followers':['713K', '1M', '557.8K']\n",
    "}\n"
   ]
  },
  {
   "cell_type": "code",
   "execution_count": 14,
   "id": "d95de941",
   "metadata": {},
   "outputs": [],
   "source": [
    "df = pd.DataFrame(about)"
   ]
  },
  {
   "cell_type": "code",
   "execution_count": 15,
   "id": "3b214556",
   "metadata": {},
   "outputs": [
    {
     "data": {
      "text/html": [
       "<div>\n",
       "<style scoped>\n",
       "    .dataframe tbody tr th:only-of-type {\n",
       "        vertical-align: middle;\n",
       "    }\n",
       "\n",
       "    .dataframe tbody tr th {\n",
       "        vertical-align: top;\n",
       "    }\n",
       "\n",
       "    .dataframe thead th {\n",
       "        text-align: right;\n",
       "    }\n",
       "</style>\n",
       "<table border=\"1\" class=\"dataframe\">\n",
       "  <thead>\n",
       "    <tr style=\"text-align: right;\">\n",
       "      <th></th>\n",
       "      <th>Name</th>\n",
       "      <th>Social_media</th>\n",
       "      <th>Followers</th>\n",
       "    </tr>\n",
       "  </thead>\n",
       "  <tbody>\n",
       "    <tr>\n",
       "      <th>0</th>\n",
       "      <td>Sisan Baniya</td>\n",
       "      <td>Youtube</td>\n",
       "      <td>713K</td>\n",
       "    </tr>\n",
       "    <tr>\n",
       "      <th>1</th>\n",
       "      <td>Shrinkhala Khatiwada</td>\n",
       "      <td>Instagram</td>\n",
       "      <td>1M</td>\n",
       "    </tr>\n",
       "    <tr>\n",
       "      <th>2</th>\n",
       "      <td>Cool Boy</td>\n",
       "      <td>TikTok</td>\n",
       "      <td>557.8K</td>\n",
       "    </tr>\n",
       "  </tbody>\n",
       "</table>\n",
       "</div>"
      ],
      "text/plain": [
       "                   Name Social_media Followers\n",
       "0          Sisan Baniya      Youtube      713K\n",
       "1  Shrinkhala Khatiwada    Instagram        1M\n",
       "2              Cool Boy       TikTok    557.8K"
      ]
     },
     "execution_count": 15,
     "metadata": {},
     "output_type": "execute_result"
    }
   ],
   "source": [
    "df.head()"
   ]
  },
  {
   "cell_type": "code",
   "execution_count": 16,
   "id": "ded579b0",
   "metadata": {},
   "outputs": [
    {
     "data": {
      "text/plain": [
       "Name            object\n",
       "Social_media    object\n",
       "Followers       object\n",
       "dtype: object"
      ]
     },
     "execution_count": 16,
     "metadata": {},
     "output_type": "execute_result"
    }
   ],
   "source": [
    "df.dtypes         # Checking the data type"
   ]
  },
  {
   "cell_type": "markdown",
   "id": "7fd1939f",
   "metadata": {},
   "source": [
    "## - Creating the function clean"
   ]
  },
  {
   "cell_type": "code",
   "execution_count": 17,
   "id": "0a5fd42f",
   "metadata": {},
   "outputs": [
    {
     "data": {
      "text/plain": [
       "334.0"
      ]
     },
     "execution_count": 17,
     "metadata": {},
     "output_type": "execute_result"
    }
   ],
   "source": [
    "def clean(p):\n",
    "    p = p.replace('K','')\n",
    "    p = p.replace('M','')\n",
    "    return float(p)\n",
    "clean('334M')"
   ]
  },
  {
   "cell_type": "markdown",
   "id": "f767fd31",
   "metadata": {},
   "source": [
    "## **- Applying the function clean to the DataFrame**"
   ]
  },
  {
   "cell_type": "code",
   "execution_count": 18,
   "id": "743ec330",
   "metadata": {},
   "outputs": [
    {
     "data": {
      "text/plain": [
       "0    713.0\n",
       "1      1.0\n",
       "2    557.8\n",
       "Name: Followers, dtype: float64"
      ]
     },
     "execution_count": 18,
     "metadata": {},
     "output_type": "execute_result"
    }
   ],
   "source": [
    "df['Followers'].apply(clean)"
   ]
  },
  {
   "cell_type": "code",
   "execution_count": 19,
   "id": "8c808125",
   "metadata": {},
   "outputs": [],
   "source": [
    "about = {\n",
    "    'Name':['Sisan Baniya','Shrinkhala Khatiwada', 'Cool Boy'],\n",
    "    'Social_media':['Youtube', 'Instagram', 'TikTok'],\n",
    "    'Followers':['713K', '1M', '557.8K']\n",
    "}\n",
    "df1 = pd.DataFrame(about)\n",
    "\n"
   ]
  },
  {
   "cell_type": "code",
   "execution_count": 21,
   "id": "32c26d96",
   "metadata": {},
   "outputs": [
    {
     "data": {
      "text/plain": [
       "0     713000.0\n",
       "1    1000000.0\n",
       "2     557800.0\n",
       "Name: Followers, dtype: float64"
      ]
     },
     "execution_count": 21,
     "metadata": {},
     "output_type": "execute_result"
    }
   ],
   "source": [
    "def clean1(p1):\n",
    "    if 'K' in p1:\n",
    "        p1 = p1.replace('K','')\n",
    "        p1 = float(p1)*1000\n",
    "    elif 'M' in p1:\n",
    "         p1 = p1.replace('M','')\n",
    "         p1 = float(p1)*1000000\n",
    "    else:\n",
    "        pass\n",
    "    return p1\n",
    "\n",
    "clean1('223M')\n",
    "\n",
    "df1['Followers'].apply(clean1)\n",
    "        "
   ]
  },
  {
   "cell_type": "markdown",
   "id": "7090699e",
   "metadata": {},
   "source": [
    "## **- Renaming the column**"
   ]
  },
  {
   "cell_type": "code",
   "execution_count": 22,
   "id": "44e2bf53",
   "metadata": {},
   "outputs": [
    {
     "data": {
      "text/html": [
       "<div>\n",
       "<style scoped>\n",
       "    .dataframe tbody tr th:only-of-type {\n",
       "        vertical-align: middle;\n",
       "    }\n",
       "\n",
       "    .dataframe tbody tr th {\n",
       "        vertical-align: top;\n",
       "    }\n",
       "\n",
       "    .dataframe thead th {\n",
       "        text-align: right;\n",
       "    }\n",
       "</style>\n",
       "<table border=\"1\" class=\"dataframe\">\n",
       "  <thead>\n",
       "    <tr style=\"text-align: right;\">\n",
       "      <th></th>\n",
       "      <th>NAME</th>\n",
       "      <th>SOCIAL_MEDIA</th>\n",
       "      <th>Followers</th>\n",
       "    </tr>\n",
       "  </thead>\n",
       "  <tbody>\n",
       "    <tr>\n",
       "      <th>0</th>\n",
       "      <td>Sisan Baniya</td>\n",
       "      <td>Youtube</td>\n",
       "      <td>713K</td>\n",
       "    </tr>\n",
       "    <tr>\n",
       "      <th>1</th>\n",
       "      <td>Shrinkhala Khatiwada</td>\n",
       "      <td>Instagram</td>\n",
       "      <td>1M</td>\n",
       "    </tr>\n",
       "    <tr>\n",
       "      <th>2</th>\n",
       "      <td>Cool Boy</td>\n",
       "      <td>TikTok</td>\n",
       "      <td>557.8K</td>\n",
       "    </tr>\n",
       "  </tbody>\n",
       "</table>\n",
       "</div>"
      ],
      "text/plain": [
       "                   NAME SOCIAL_MEDIA Followers\n",
       "0          Sisan Baniya      Youtube      713K\n",
       "1  Shrinkhala Khatiwada    Instagram        1M\n",
       "2              Cool Boy       TikTok    557.8K"
      ]
     },
     "execution_count": 22,
     "metadata": {},
     "output_type": "execute_result"
    }
   ],
   "source": [
    "df.rename({'Social_media': 'SOCIAL_MEDIA', 'Name':'NAME'}, axis = 'columns')"
   ]
  },
  {
   "cell_type": "code",
   "execution_count": 23,
   "id": "03c5fb2a",
   "metadata": {},
   "outputs": [
    {
     "data": {
      "text/html": [
       "<div>\n",
       "<style scoped>\n",
       "    .dataframe tbody tr th:only-of-type {\n",
       "        vertical-align: middle;\n",
       "    }\n",
       "\n",
       "    .dataframe tbody tr th {\n",
       "        vertical-align: top;\n",
       "    }\n",
       "\n",
       "    .dataframe thead th {\n",
       "        text-align: right;\n",
       "    }\n",
       "</style>\n",
       "<table border=\"1\" class=\"dataframe\">\n",
       "  <thead>\n",
       "    <tr style=\"text-align: right;\">\n",
       "      <th></th>\n",
       "      <th>Name</th>\n",
       "      <th>Social_media</th>\n",
       "      <th>Followers</th>\n",
       "    </tr>\n",
       "  </thead>\n",
       "  <tbody>\n",
       "    <tr>\n",
       "      <th>0</th>\n",
       "      <td>Sisan Baniya</td>\n",
       "      <td>Youtube</td>\n",
       "      <td>713K</td>\n",
       "    </tr>\n",
       "    <tr>\n",
       "      <th>1</th>\n",
       "      <td>Shrinkhala Khatiwada</td>\n",
       "      <td>Instagram</td>\n",
       "      <td>1M</td>\n",
       "    </tr>\n",
       "    <tr>\n",
       "      <th>2</th>\n",
       "      <td>Cool Boy</td>\n",
       "      <td>TikTok</td>\n",
       "      <td>557.8K</td>\n",
       "    </tr>\n",
       "  </tbody>\n",
       "</table>\n",
       "</div>"
      ],
      "text/plain": [
       "                   Name Social_media Followers\n",
       "0          Sisan Baniya      Youtube      713K\n",
       "1  Shrinkhala Khatiwada    Instagram        1M\n",
       "2              Cool Boy       TikTok    557.8K"
      ]
     },
     "execution_count": 23,
     "metadata": {},
     "output_type": "execute_result"
    }
   ],
   "source": [
    "df.head()"
   ]
  },
  {
   "cell_type": "markdown",
   "id": "a5cf3e5b",
   "metadata": {},
   "source": [
    "## - If the changes are to be saved in the original DataFrame"
   ]
  },
  {
   "cell_type": "code",
   "execution_count": 24,
   "id": "fb6110c7",
   "metadata": {},
   "outputs": [],
   "source": [
    "df.rename({'Social_media': 'SOCIAL_MEDIA', 'Name':'NAME'}, axis = 'columns', inplace = True)\n",
    "# inplace = True means the renaming is to be saved in the original DataFrame"
   ]
  },
  {
   "cell_type": "code",
   "execution_count": 26,
   "id": "6e7ca951",
   "metadata": {},
   "outputs": [
    {
     "data": {
      "text/html": [
       "<div>\n",
       "<style scoped>\n",
       "    .dataframe tbody tr th:only-of-type {\n",
       "        vertical-align: middle;\n",
       "    }\n",
       "\n",
       "    .dataframe tbody tr th {\n",
       "        vertical-align: top;\n",
       "    }\n",
       "\n",
       "    .dataframe thead th {\n",
       "        text-align: right;\n",
       "    }\n",
       "</style>\n",
       "<table border=\"1\" class=\"dataframe\">\n",
       "  <thead>\n",
       "    <tr style=\"text-align: right;\">\n",
       "      <th></th>\n",
       "      <th>NAME</th>\n",
       "      <th>SOCIAL_MEDIA</th>\n",
       "      <th>Followers</th>\n",
       "    </tr>\n",
       "  </thead>\n",
       "  <tbody>\n",
       "    <tr>\n",
       "      <th>0</th>\n",
       "      <td>Sisan Baniya</td>\n",
       "      <td>Youtube</td>\n",
       "      <td>713K</td>\n",
       "    </tr>\n",
       "    <tr>\n",
       "      <th>1</th>\n",
       "      <td>Shrinkhala Khatiwada</td>\n",
       "      <td>Instagram</td>\n",
       "      <td>1M</td>\n",
       "    </tr>\n",
       "    <tr>\n",
       "      <th>2</th>\n",
       "      <td>Cool Boy</td>\n",
       "      <td>TikTok</td>\n",
       "      <td>557.8K</td>\n",
       "    </tr>\n",
       "  </tbody>\n",
       "</table>\n",
       "</div>"
      ],
      "text/plain": [
       "                   NAME SOCIAL_MEDIA Followers\n",
       "0          Sisan Baniya      Youtube      713K\n",
       "1  Shrinkhala Khatiwada    Instagram        1M\n",
       "2              Cool Boy       TikTok    557.8K"
      ]
     },
     "execution_count": 26,
     "metadata": {},
     "output_type": "execute_result"
    }
   ],
   "source": [
    "df.head()   # Hence, the changes are saved"
   ]
  },
  {
   "cell_type": "markdown",
   "id": "47ce0187",
   "metadata": {},
   "source": [
    "## - Accessing the columns of a DataFrame"
   ]
  },
  {
   "cell_type": "code",
   "execution_count": 29,
   "id": "308ffc63",
   "metadata": {
    "scrolled": true
   },
   "outputs": [
    {
     "data": {
      "text/plain": [
       "0            Sisan Baniya\n",
       "1    Shrinkhala Khatiwada\n",
       "2                Cool Boy\n",
       "Name: NAME, dtype: object"
      ]
     },
     "execution_count": 29,
     "metadata": {},
     "output_type": "execute_result"
    }
   ],
   "source": [
    "df['NAME']    # As in dictionary"
   ]
  },
  {
   "cell_type": "markdown",
   "id": "39feddd2",
   "metadata": {},
   "source": [
    "# b) Creating a DataFrame using a list of dicts"
   ]
  },
  {
   "cell_type": "code",
   "execution_count": 30,
   "id": "24692d05",
   "metadata": {},
   "outputs": [
    {
     "data": {
      "text/html": [
       "<div>\n",
       "<style scoped>\n",
       "    .dataframe tbody tr th:only-of-type {\n",
       "        vertical-align: middle;\n",
       "    }\n",
       "\n",
       "    .dataframe tbody tr th {\n",
       "        vertical-align: top;\n",
       "    }\n",
       "\n",
       "    .dataframe thead th {\n",
       "        text-align: right;\n",
       "    }\n",
       "</style>\n",
       "<table border=\"1\" class=\"dataframe\">\n",
       "  <thead>\n",
       "    <tr style=\"text-align: right;\">\n",
       "      <th></th>\n",
       "      <th>a</th>\n",
       "      <th>b</th>\n",
       "      <th>c</th>\n",
       "      <th>d</th>\n",
       "    </tr>\n",
       "  </thead>\n",
       "  <tbody>\n",
       "    <tr>\n",
       "      <th>0</th>\n",
       "      <td>apple</td>\n",
       "      <td>ball</td>\n",
       "      <td>champa</td>\n",
       "      <td>NaN</td>\n",
       "    </tr>\n",
       "    <tr>\n",
       "      <th>1</th>\n",
       "      <td>ant</td>\n",
       "      <td>boat</td>\n",
       "      <td>NaN</td>\n",
       "      <td>dog</td>\n",
       "    </tr>\n",
       "  </tbody>\n",
       "</table>\n",
       "</div>"
      ],
      "text/plain": [
       "       a     b       c    d\n",
       "0  apple  ball  champa  NaN\n",
       "1    ant  boat     NaN  dog"
      ]
     },
     "execution_count": 30,
     "metadata": {},
     "output_type": "execute_result"
    }
   ],
   "source": [
    "new = [{'a': 'apple', 'b': 'ball', 'c': 'champa'}, {'a':'ant', 'b':'boat', 'd':'dog'}]\n",
    "df2 = pd.DataFrame(new)\n",
    "df2.head()\n",
    "# NaN is a missing value in Pandas"
   ]
  },
  {
   "cell_type": "markdown",
   "id": "4394f763",
   "metadata": {},
   "source": [
    "## **Finding missing values in DataFrame**"
   ]
  },
  {
   "cell_type": "code",
   "execution_count": 37,
   "id": "d2f7dcb4",
   "metadata": {},
   "outputs": [
    {
     "data": {
      "text/html": [
       "<div>\n",
       "<style scoped>\n",
       "    .dataframe tbody tr th:only-of-type {\n",
       "        vertical-align: middle;\n",
       "    }\n",
       "\n",
       "    .dataframe tbody tr th {\n",
       "        vertical-align: top;\n",
       "    }\n",
       "\n",
       "    .dataframe thead th {\n",
       "        text-align: right;\n",
       "    }\n",
       "</style>\n",
       "<table border=\"1\" class=\"dataframe\">\n",
       "  <thead>\n",
       "    <tr style=\"text-align: right;\">\n",
       "      <th></th>\n",
       "      <th>a</th>\n",
       "      <th>b</th>\n",
       "      <th>c</th>\n",
       "      <th>d</th>\n",
       "    </tr>\n",
       "  </thead>\n",
       "  <tbody>\n",
       "    <tr>\n",
       "      <th>0</th>\n",
       "      <td>False</td>\n",
       "      <td>False</td>\n",
       "      <td>False</td>\n",
       "      <td>True</td>\n",
       "    </tr>\n",
       "    <tr>\n",
       "      <th>1</th>\n",
       "      <td>False</td>\n",
       "      <td>False</td>\n",
       "      <td>True</td>\n",
       "      <td>False</td>\n",
       "    </tr>\n",
       "  </tbody>\n",
       "</table>\n",
       "</div>"
      ],
      "text/plain": [
       "       a      b      c      d\n",
       "0  False  False  False   True\n",
       "1  False  False   True  False"
      ]
     },
     "execution_count": 37,
     "metadata": {},
     "output_type": "execute_result"
    }
   ],
   "source": [
    "df2.isnull()\n",
    "# This command is same as\n",
    "df2.isna()\n",
    "# Returns True in the column if it finds a null value"
   ]
  },
  {
   "cell_type": "markdown",
   "id": "8708730b",
   "metadata": {},
   "source": [
    "## Counting the number of missing values in a DataFrame"
   ]
  },
  {
   "cell_type": "code",
   "execution_count": 38,
   "id": "6ad8580e",
   "metadata": {},
   "outputs": [
    {
     "data": {
      "text/plain": [
       "a    0\n",
       "b    0\n",
       "c    1\n",
       "d    1\n",
       "dtype: int64"
      ]
     },
     "execution_count": 38,
     "metadata": {},
     "output_type": "execute_result"
    }
   ],
   "source": [
    "df2.isna().sum()   # no axis required. By default, returns the column-wise sum"
   ]
  },
  {
   "cell_type": "markdown",
   "id": "16efd62b",
   "metadata": {},
   "source": [
    "- a,b ma 0 missing row\n",
    "- c,d ma 1 missing row    \n"
   ]
  },
  {
   "cell_type": "markdown",
   "id": "09836d02",
   "metadata": {},
   "source": [
    "## Visualization of missing data"
   ]
  },
  {
   "cell_type": "code",
   "execution_count": 41,
   "id": "41128085",
   "metadata": {},
   "outputs": [
    {
     "data": {
      "text/plain": [
       "<Axes: >"
      ]
     },
     "execution_count": 41,
     "metadata": {},
     "output_type": "execute_result"
    },
    {
     "data": {
      "image/png": "[encoded data removed]",
      "text/plain": [
       "<Figure size 500x200 with 1 Axes>"
      ]
     },
     "metadata": {},
     "output_type": "display_data"
    }
   ],
   "source": [
    "df2.isna().sum().plot.bar(figsize=(5,2))    # figsize(<max value = 20>, <jati halda ni vayo; bar laamo hudai janxa>)"
   ]
  },
  {
   "cell_type": "code",
   "execution_count": null,
   "id": "34ded49d",
   "metadata": {},
   "outputs": [],
   "source": []
  }
 ],
 "metadata": {
  "kernelspec": {
   "display_name": "Python 3 (ipykernel)",
   "language": "python",
   "name": "python3"
  },
  "language_info": {
   "codemirror_mode": {
    "name": "ipython",
    "version": 3
   },
   "file_extension": ".py",
   "mimetype": "text/x-python",
   "name": "python",
   "nbconvert_exporter": "python",
   "pygments_lexer": "ipython3",
   "version": "3.9.6"
  }
 },
 "nbformat": 4,
 "nbformat_minor": 5
}
