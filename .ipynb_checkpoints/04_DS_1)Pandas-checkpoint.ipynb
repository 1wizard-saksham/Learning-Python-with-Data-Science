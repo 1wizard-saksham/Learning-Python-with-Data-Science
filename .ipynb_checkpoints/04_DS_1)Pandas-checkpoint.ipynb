{
 "cells": [
  {
   "cell_type": "code",
   "execution_count": 1,
   "id": "30dee6fe",
   "metadata": {},
   "outputs": [],
   "source": [
    "# Importing pandas\n",
    "import pandas as pd"
   ]
  },
  {
   "cell_type": "code",
   "execution_count": 3,
   "id": "48b012d1",
   "metadata": {},
   "outputs": [
    {
     "data": {
      "text/plain": [
       "'2.0.3'"
      ]
     },
     "execution_count": 3,
     "metadata": {},
     "output_type": "execute_result"
    }
   ],
   "source": [
    "# Checking version\n",
    "pd.__version__"
   ]
  },
  {
   "cell_type": "markdown",
   "id": "df7876de",
   "metadata": {},
   "source": [
    "# i) Data Structures in Pandas\n",
    "## a) Series \n",
    "## b) Dataframe"
   ]
  },
  {
   "cell_type": "markdown",
   "id": "9fd9369b",
   "metadata": {},
   "source": [
    "## a) Series"
   ]
  },
  {
   "cell_type": "markdown",
   "id": "45595627",
   "metadata": {},
   "source": [
    "<img src=\"https://i.morioh.com/210524/9788b6e2.webp\">"
   ]
  },
  {
   "cell_type": "markdown",
   "id": "67d94481",
   "metadata": {},
   "source": [
    "# - Creating series from list"
   ]
  },
  {
   "cell_type": "code",
   "execution_count": 4,
   "id": "9a945662",
   "metadata": {},
   "outputs": [
    {
     "name": "stdout",
     "output_type": "stream",
     "text": [
      "0    saksham\n",
      "1      Bikas\n",
      "2      kusum\n",
      "3     Champa\n",
      "4     Pranil\n",
      "dtype: object\n"
     ]
    }
   ],
   "source": [
    "name = ['saksham', 'Bikas', 'kusum', 'Champa', 'Pranil']\n",
    "s = pd.Series(name)\n",
    "print(s)"
   ]
  },
  {
   "cell_type": "code",
   "execution_count": 12,
   "id": "9b040c10",
   "metadata": {},
   "outputs": [
    {
     "data": {
      "text/plain": [
       "'Champa'"
      ]
     },
     "execution_count": 12,
     "metadata": {},
     "output_type": "execute_result"
    }
   ],
   "source": [
    "s.values   # Returns a NumPy array"
   ]
  },
  {
   "cell_type": "code",
   "execution_count": 6,
   "id": "6aa89629",
   "metadata": {},
   "outputs": [
    {
     "data": {
      "text/plain": [
       "1"
      ]
     },
     "execution_count": 6,
     "metadata": {},
     "output_type": "execute_result"
    }
   ],
   "source": [
    "# Checking the dimension of the series. Hence, the series in pandas is one dimensional\n",
    "s.ndim"
   ]
  },
  {
   "cell_type": "markdown",
   "id": "a324dd0e",
   "metadata": {},
   "source": [
    "## - Pandas doesn't support negative indexing"
   ]
  },
  {
   "cell_type": "code",
   "execution_count": 13,
   "id": "1efa3a20",
   "metadata": {},
   "outputs": [
    {
     "name": "stdout",
     "output_type": "stream",
     "text": [
      "Champa\n",
      "Champa\n"
     ]
    }
   ],
   "source": [
    "# Indexing of series\n",
    "print(s[3])\n",
    "# or\n",
    "print(s.values[3])    # Best method"
   ]
  },
  {
   "cell_type": "code",
   "execution_count": 17,
   "id": "f52f17bf",
   "metadata": {},
   "outputs": [
    {
     "data": {
      "text/plain": [
       "'Champa'"
      ]
     },
     "execution_count": 17,
     "metadata": {},
     "output_type": "execute_result"
    }
   ],
   "source": [
    "# allowed \n",
    "s.values[-2]\n",
    "# Not allowed\n",
    "s[-2]\n"
   ]
  },
  {
   "cell_type": "markdown",
   "id": "277c27d1",
   "metadata": {},
   "source": [
    "## - Changing the index of a Pandas series"
   ]
  },
  {
   "cell_type": "code",
   "execution_count": 31,
   "id": "f2f89de3",
   "metadata": {},
   "outputs": [
    {
     "data": {
      "text/plain": [
       "a    saksham\n",
       "b      Bikas\n",
       "c      kusum\n",
       "d     Champa\n",
       "e     Pranil\n",
       "dtype: object"
      ]
     },
     "execution_count": 31,
     "metadata": {},
     "output_type": "execute_result"
    }
   ],
   "source": [
    "# Changing the index 0,1,2,3,4 to custom defined indices\n",
    "s = pd.Series(name, index = ['a','b','c','d','e'])\n",
    "# s = pd.Series(name, index = [101,102,103,104,105])\n",
    "s\n"
   ]
  },
  {
   "cell_type": "markdown",
   "id": "77c0e347",
   "metadata": {},
   "source": [
    "## - To access the index now: -"
   ]
  },
  {
   "cell_type": "code",
   "execution_count": 32,
   "id": "73ef85e3",
   "metadata": {},
   "outputs": [
    {
     "data": {
      "text/plain": [
       "'Bikas'"
      ]
     },
     "execution_count": 32,
     "metadata": {},
     "output_type": "execute_result"
    }
   ],
   "source": [
    "s['b']\n",
    "# s[102]"
   ]
  },
  {
   "cell_type": "markdown",
   "id": "cf3bac2c",
   "metadata": {},
   "source": [
    "## - To access from .values method i.e NumPy array"
   ]
  },
  {
   "cell_type": "code",
   "execution_count": 33,
   "id": "db6bfcb2",
   "metadata": {},
   "outputs": [
    {
     "data": {
      "text/plain": [
       "'saksham'"
      ]
     },
     "execution_count": 33,
     "metadata": {},
     "output_type": "execute_result"
    }
   ],
   "source": [
    "s.values[0]"
   ]
  },
  {
   "cell_type": "markdown",
   "id": "d861444c",
   "metadata": {},
   "source": [
    "## - Providing name to the series"
   ]
  },
  {
   "cell_type": "code",
   "execution_count": 37,
   "id": "2d0919d2",
   "metadata": {},
   "outputs": [
    {
     "name": "stdout",
     "output_type": "stream",
     "text": [
      "a        Ram\n",
      "b       Pete\n",
      "c      Harry\n",
      "d    Maguire\n",
      "Name: Names, dtype: object\n"
     ]
    }
   ],
   "source": [
    "sample = ['Ram', 'Pete', 'Harry', 'Maguire']\n",
    "s1 = pd.Series(sample, index= ['a','b','c','d'], name = 'Names') # Assigning name to the series\n",
    "print(s1)"
   ]
  },
  {
   "cell_type": "markdown",
   "id": "e7e51588",
   "metadata": {},
   "source": [
    "## - Apply function on series"
   ]
  },
  {
   "cell_type": "code",
   "execution_count": 39,
   "id": "0f8f921f",
   "metadata": {},
   "outputs": [
    {
     "data": {
      "text/plain": [
       "0    $500\n",
       "1     $20\n",
       "2     $45\n",
       "3     $50\n",
       "Name: Price in Dollar, dtype: object"
      ]
     },
     "execution_count": 39,
     "metadata": {},
     "output_type": "execute_result"
    }
   ],
   "source": [
    "prices = ['$500', '$20', '$45', '$50']\n",
    "mrp = pd.Series(prices, name= 'Price in Dollar')\n",
    "mrp"
   ]
  },
  {
   "cell_type": "code",
   "execution_count": 42,
   "id": "3e08dfc9",
   "metadata": {},
   "outputs": [
    {
     "data": {
      "text/plain": [
       "500.0"
      ]
     },
     "execution_count": 42,
     "metadata": {},
     "output_type": "execute_result"
    }
   ],
   "source": [
    "# LOGIC: - To remove the '$' (DOLLAR) sign\n",
    "def clean_price(p):\n",
    "    p = p.replace('$','').strip()\n",
    "    return float(p)\n",
    "clean_price()"
   ]
  },
  {
   "cell_type": "markdown",
   "id": "2c01e11b",
   "metadata": {},
   "source": [
    "## - Applying the function to remove DOLLAR sign from the above series 'mrp'\n",
    "## - Apply() method is basically used in data cleaning"
   ]
  },
  {
   "cell_type": "code",
   "execution_count": 45,
   "id": "30955620",
   "metadata": {},
   "outputs": [
    {
     "data": {
      "text/plain": [
       "0    500.0\n",
       "1     20.0\n",
       "2     45.0\n",
       "3     50.0\n",
       "Name: Price in Dollar, dtype: float64"
      ]
     },
     "execution_count": 45,
     "metadata": {},
     "output_type": "execute_result"
    }
   ],
   "source": [
    "# Applying the function clean_price\n",
    "mrp.apply(clean_price)"
   ]
  },
  {
   "cell_type": "markdown",
   "id": "af6a5885",
   "metadata": {},
   "source": [
    "## - Performing the above operation in a single line"
   ]
  },
  {
   "cell_type": "code",
   "execution_count": 48,
   "id": "303f5eba",
   "metadata": {
    "scrolled": true
   },
   "outputs": [
    {
     "data": {
      "text/plain": [
       "0    500.0\n",
       "1     20.0\n",
       "2     45.0\n",
       "3     50.0\n",
       "Name: Price in Dollar, dtype: float64"
      ]
     },
     "execution_count": 48,
     "metadata": {},
     "output_type": "execute_result"
    }
   ],
   "source": [
    "mrp.str.replace('$','', regex = False).astype(float)    # regular expression = False (Optional)"
   ]
  },
  {
   "cell_type": "markdown",
   "id": "c885a4d6",
   "metadata": {},
   "source": [
    "## - Addition of the series"
   ]
  },
  {
   "cell_type": "code",
   "execution_count": 64,
   "id": "a1ada151",
   "metadata": {},
   "outputs": [
    {
     "name": "stdout",
     "output_type": "stream",
     "text": [
      "0     51.0\n",
      "1     53.0\n",
      "2     55.0\n",
      "3     57.0\n",
      "4     59.0\n",
      "5     61.0\n",
      "6     63.0\n",
      "7     65.0\n",
      "8     67.0\n",
      "9     69.0\n",
      "10    71.0\n",
      "11    73.0\n",
      "12    75.0\n",
      "13    77.0\n",
      "14     NaN\n",
      "dtype: float64\n"
     ]
    }
   ],
   "source": [
    "num1 = pd.Series(range(1,15), name = 'First_no')\n",
    "num2 = pd.Series(range(50,65), name = 'Second_no')\n",
    "print(num1 + num2)"
   ]
  },
  {
   "cell_type": "markdown",
   "id": "bba4249d",
   "metadata": {},
   "source": [
    "## - Column-wise concatenation of the 2 series results in a DataFrame"
   ]
  },
  {
   "cell_type": "code",
   "execution_count": 65,
   "id": "95f35f8b",
   "metadata": {},
   "outputs": [
    {
     "data": {
      "text/html": [
       "<div>\n",
       "<style scoped>\n",
       "    .dataframe tbody tr th:only-of-type {\n",
       "        vertical-align: middle;\n",
       "    }\n",
       "\n",
       "    .dataframe tbody tr th {\n",
       "        vertical-align: top;\n",
       "    }\n",
       "\n",
       "    .dataframe thead th {\n",
       "        text-align: right;\n",
       "    }\n",
       "</style>\n",
       "<table border=\"1\" class=\"dataframe\">\n",
       "  <thead>\n",
       "    <tr style=\"text-align: right;\">\n",
       "      <th></th>\n",
       "      <th>First_no</th>\n",
       "      <th>Second_no</th>\n",
       "    </tr>\n",
       "  </thead>\n",
       "  <tbody>\n",
       "    <tr>\n",
       "      <th>0</th>\n",
       "      <td>1.0</td>\n",
       "      <td>50</td>\n",
       "    </tr>\n",
       "    <tr>\n",
       "      <th>1</th>\n",
       "      <td>2.0</td>\n",
       "      <td>51</td>\n",
       "    </tr>\n",
       "    <tr>\n",
       "      <th>2</th>\n",
       "      <td>3.0</td>\n",
       "      <td>52</td>\n",
       "    </tr>\n",
       "    <tr>\n",
       "      <th>3</th>\n",
       "      <td>4.0</td>\n",
       "      <td>53</td>\n",
       "    </tr>\n",
       "    <tr>\n",
       "      <th>4</th>\n",
       "      <td>5.0</td>\n",
       "      <td>54</td>\n",
       "    </tr>\n",
       "    <tr>\n",
       "      <th>5</th>\n",
       "      <td>6.0</td>\n",
       "      <td>55</td>\n",
       "    </tr>\n",
       "    <tr>\n",
       "      <th>6</th>\n",
       "      <td>7.0</td>\n",
       "      <td>56</td>\n",
       "    </tr>\n",
       "    <tr>\n",
       "      <th>7</th>\n",
       "      <td>8.0</td>\n",
       "      <td>57</td>\n",
       "    </tr>\n",
       "    <tr>\n",
       "      <th>8</th>\n",
       "      <td>9.0</td>\n",
       "      <td>58</td>\n",
       "    </tr>\n",
       "    <tr>\n",
       "      <th>9</th>\n",
       "      <td>10.0</td>\n",
       "      <td>59</td>\n",
       "    </tr>\n",
       "    <tr>\n",
       "      <th>10</th>\n",
       "      <td>11.0</td>\n",
       "      <td>60</td>\n",
       "    </tr>\n",
       "    <tr>\n",
       "      <th>11</th>\n",
       "      <td>12.0</td>\n",
       "      <td>61</td>\n",
       "    </tr>\n",
       "    <tr>\n",
       "      <th>12</th>\n",
       "      <td>13.0</td>\n",
       "      <td>62</td>\n",
       "    </tr>\n",
       "    <tr>\n",
       "      <th>13</th>\n",
       "      <td>14.0</td>\n",
       "      <td>63</td>\n",
       "    </tr>\n",
       "    <tr>\n",
       "      <th>14</th>\n",
       "      <td>NaN</td>\n",
       "      <td>64</td>\n",
       "    </tr>\n",
       "  </tbody>\n",
       "</table>\n",
       "</div>"
      ],
      "text/plain": [
       "    First_no  Second_no\n",
       "0        1.0         50\n",
       "1        2.0         51\n",
       "2        3.0         52\n",
       "3        4.0         53\n",
       "4        5.0         54\n",
       "5        6.0         55\n",
       "6        7.0         56\n",
       "7        8.0         57\n",
       "8        9.0         58\n",
       "9       10.0         59\n",
       "10      11.0         60\n",
       "11      12.0         61\n",
       "12      13.0         62\n",
       "13      14.0         63\n",
       "14       NaN         64"
      ]
     },
     "execution_count": 65,
     "metadata": {},
     "output_type": "execute_result"
    }
   ],
   "source": [
    "# Concatenating num1 and num2 by column\n",
    "df = pd.concat([num1, num2],  axis= 1)\n",
    "df"
   ]
  },
  {
   "cell_type": "code",
   "execution_count": 60,
   "id": "7b7267ff",
   "metadata": {},
   "outputs": [
    {
     "data": {
      "text/html": [
       "<div>\n",
       "<style scoped>\n",
       "    .dataframe tbody tr th:only-of-type {\n",
       "        vertical-align: middle;\n",
       "    }\n",
       "\n",
       "    .dataframe tbody tr th {\n",
       "        vertical-align: top;\n",
       "    }\n",
       "\n",
       "    .dataframe thead th {\n",
       "        text-align: right;\n",
       "    }\n",
       "</style>\n",
       "<table border=\"1\" class=\"dataframe\">\n",
       "  <thead>\n",
       "    <tr style=\"text-align: right;\">\n",
       "      <th></th>\n",
       "      <th>0</th>\n",
       "      <th>1</th>\n",
       "    </tr>\n",
       "  </thead>\n",
       "  <tbody>\n",
       "    <tr>\n",
       "      <th>0</th>\n",
       "      <td>1.0</td>\n",
       "      <td>50</td>\n",
       "    </tr>\n",
       "    <tr>\n",
       "      <th>1</th>\n",
       "      <td>2.0</td>\n",
       "      <td>51</td>\n",
       "    </tr>\n",
       "    <tr>\n",
       "      <th>2</th>\n",
       "      <td>3.0</td>\n",
       "      <td>52</td>\n",
       "    </tr>\n",
       "    <tr>\n",
       "      <th>3</th>\n",
       "      <td>4.0</td>\n",
       "      <td>53</td>\n",
       "    </tr>\n",
       "    <tr>\n",
       "      <th>4</th>\n",
       "      <td>5.0</td>\n",
       "      <td>54</td>\n",
       "    </tr>\n",
       "  </tbody>\n",
       "</table>\n",
       "</div>"
      ],
      "text/plain": [
       "     0   1\n",
       "0  1.0  50\n",
       "1  2.0  51\n",
       "2  3.0  52\n",
       "3  4.0  53\n",
       "4  5.0  54"
      ]
     },
     "execution_count": 60,
     "metadata": {},
     "output_type": "execute_result"
    }
   ],
   "source": [
    "# First five rows of a data frame\n",
    "df.head()"
   ]
  },
  {
   "cell_type": "code",
   "execution_count": 62,
   "id": "ed72e42d",
   "metadata": {},
   "outputs": [
    {
     "data": {
      "text/html": [
       "<div>\n",
       "<style scoped>\n",
       "    .dataframe tbody tr th:only-of-type {\n",
       "        vertical-align: middle;\n",
       "    }\n",
       "\n",
       "    .dataframe tbody tr th {\n",
       "        vertical-align: top;\n",
       "    }\n",
       "\n",
       "    .dataframe thead th {\n",
       "        text-align: right;\n",
       "    }\n",
       "</style>\n",
       "<table border=\"1\" class=\"dataframe\">\n",
       "  <thead>\n",
       "    <tr style=\"text-align: right;\">\n",
       "      <th></th>\n",
       "      <th>0</th>\n",
       "      <th>1</th>\n",
       "    </tr>\n",
       "  </thead>\n",
       "  <tbody>\n",
       "    <tr>\n",
       "      <th>10</th>\n",
       "      <td>11.0</td>\n",
       "      <td>60</td>\n",
       "    </tr>\n",
       "    <tr>\n",
       "      <th>11</th>\n",
       "      <td>12.0</td>\n",
       "      <td>61</td>\n",
       "    </tr>\n",
       "    <tr>\n",
       "      <th>12</th>\n",
       "      <td>13.0</td>\n",
       "      <td>62</td>\n",
       "    </tr>\n",
       "    <tr>\n",
       "      <th>13</th>\n",
       "      <td>14.0</td>\n",
       "      <td>63</td>\n",
       "    </tr>\n",
       "    <tr>\n",
       "      <th>14</th>\n",
       "      <td>NaN</td>\n",
       "      <td>64</td>\n",
       "    </tr>\n",
       "  </tbody>\n",
       "</table>\n",
       "</div>"
      ],
      "text/plain": [
       "       0   1\n",
       "10  11.0  60\n",
       "11  12.0  61\n",
       "12  13.0  62\n",
       "13  14.0  63\n",
       "14   NaN  64"
      ]
     },
     "execution_count": 62,
     "metadata": {},
     "output_type": "execute_result"
    }
   ],
   "source": [
    "# Last five rows of a dataframe\n",
    "df.tail()"
   ]
  },
  {
   "cell_type": "code",
   "execution_count": 63,
   "id": "c8636ba0",
   "metadata": {},
   "outputs": [
    {
     "data": {
      "text/plain": [
       "2"
      ]
     },
     "execution_count": 63,
     "metadata": {},
     "output_type": "execute_result"
    }
   ],
   "source": [
    "# Checking the dimension of the dataframe\n",
    "# Hence, a dataframe is of 2 or more dimension\n",
    "df.ndim"
   ]
  },
  {
   "cell_type": "markdown",
   "id": "7f621479",
   "metadata": {},
   "source": [
    "# b) DataFrame"
   ]
  },
  {
   "cell_type": "markdown",
   "id": "8b41827b",
   "metadata": {},
   "source": [
    "## - Creating dataframe from dictionary"
   ]
  },
  {
   "cell_type": "code",
   "execution_count": 81,
   "id": "a4645d6c",
   "metadata": {},
   "outputs": [
    {
     "data": {
      "text/html": [
       "<div>\n",
       "<style scoped>\n",
       "    .dataframe tbody tr th:only-of-type {\n",
       "        vertical-align: middle;\n",
       "    }\n",
       "\n",
       "    .dataframe tbody tr th {\n",
       "        vertical-align: top;\n",
       "    }\n",
       "\n",
       "    .dataframe thead th {\n",
       "        text-align: right;\n",
       "    }\n",
       "</style>\n",
       "<table border=\"1\" class=\"dataframe\">\n",
       "  <thead>\n",
       "    <tr style=\"text-align: right;\">\n",
       "      <th></th>\n",
       "      <th>name</th>\n",
       "      <th>gender</th>\n",
       "    </tr>\n",
       "  </thead>\n",
       "  <tbody>\n",
       "    <tr>\n",
       "      <th>1</th>\n",
       "      <td>Jason</td>\n",
       "      <td>F</td>\n",
       "    </tr>\n",
       "    <tr>\n",
       "      <th>2</th>\n",
       "      <td>Peter</td>\n",
       "      <td>M</td>\n",
       "    </tr>\n",
       "    <tr>\n",
       "      <th>3</th>\n",
       "      <td>Ronaldo</td>\n",
       "      <td>M</td>\n",
       "    </tr>\n",
       "    <tr>\n",
       "      <th>4</th>\n",
       "      <td>Luffy</td>\n",
       "      <td>M</td>\n",
       "    </tr>\n",
       "  </tbody>\n",
       "</table>\n",
       "</div>"
      ],
      "text/plain": [
       "      name gender\n",
       "1    Jason      F\n",
       "2    Peter      M\n",
       "3  Ronaldo      M\n",
       "4    Luffy      M"
      ]
     },
     "execution_count": 81,
     "metadata": {},
     "output_type": "execute_result"
    }
   ],
   "source": [
    "about = {\n",
    "    'name': ['Jason', 'Peter', 'Ronaldo', 'Luffy'],\n",
    "    'gender':['F', 'M', 'M', 'M'],\n",
    "}\n",
    "dict_df = pd.DataFrame(about, index =[1,2,3,4])\n",
    "dict_df.head()"
   ]
  },
  {
   "cell_type": "code",
   "execution_count": 75,
   "id": "42ddbc8d",
   "metadata": {},
   "outputs": [
    {
     "data": {
      "text/plain": [
       "(4, 2)"
      ]
     },
     "execution_count": 75,
     "metadata": {},
     "output_type": "execute_result"
    }
   ],
   "source": [
    "dict_df.shape # Checking the shaps"
   ]
  },
  {
   "cell_type": "code",
   "execution_count": 74,
   "id": "278a94c7",
   "metadata": {},
   "outputs": [
    {
     "data": {
      "text/plain": [
       "2"
      ]
     },
     "execution_count": 74,
     "metadata": {},
     "output_type": "execute_result"
    }
   ],
   "source": [
    "dict_df.ndim # Dimension"
   ]
  },
  {
   "cell_type": "code",
   "execution_count": 82,
   "id": "a75d47eb",
   "metadata": {},
   "outputs": [
    {
     "data": {
      "text/plain": [
       "1      Jason\n",
       "2      Peter\n",
       "3    Ronaldo\n",
       "4      Luffy\n",
       "Name: name, dtype: object"
      ]
     },
     "execution_count": 82,
     "metadata": {},
     "output_type": "execute_result"
    }
   ],
   "source": [
    "dict_df['name']   # Accessing the name column. It is a Series\n"
   ]
  },
  {
   "cell_type": "code",
   "execution_count": 83,
   "id": "420c846b",
   "metadata": {},
   "outputs": [
    {
     "data": {
      "text/plain": [
       "1    F\n",
       "2    M\n",
       "3    M\n",
       "4    M\n",
       "Name: gender, dtype: object"
      ]
     },
     "execution_count": 83,
     "metadata": {},
     "output_type": "execute_result"
    }
   ],
   "source": [
    "dict_df['gender']"
   ]
  },
  {
   "cell_type": "code",
   "execution_count": null,
   "id": "7fcf71b0",
   "metadata": {},
   "outputs": [],
   "source": []
  }
 ],
 "metadata": {
  "kernelspec": {
   "display_name": "Python 3 (ipykernel)",
   "language": "python",
   "name": "python3"
  },
  "language_info": {
   "codemirror_mode": {
    "name": "ipython",
    "version": 3
   },
   "file_extension": ".py",
   "mimetype": "text/x-python",
   "name": "python",
   "nbconvert_exporter": "python",
   "pygments_lexer": "ipython3",
   "version": "3.9.6"
  }
 },
 "nbformat": 4,
 "nbformat_minor": 5
}
